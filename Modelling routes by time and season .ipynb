{
 "cells": [
  {
   "cell_type": "markdown",
   "metadata": {},
   "source": [
    "## Data analysis hitlist:\n",
    "> * AM, PM, rushhour, SEASONS, MONTH \n",
    "> * Dwell time, target-traveltime, deviation from scheduled time \n",
    "> * Distance? route geometry? shape? \n",
    "\n",
    "\n",
    "\n",
    ">* Plot correlations between features\n",
    ">* Confirm whether any of our data contains info on passenger numbers\n",
    ">* Irregular vs. regular stop adherence- did irregular bus drive through the stops? is there a pattern?\n",
    ">* Model"
   ]
  },
  {
   "cell_type": "code",
   "execution_count": 1,
   "metadata": {},
   "outputs": [],
   "source": [
    "import pandas as pd"
   ]
  },
  {
   "cell_type": "code",
   "execution_count": 2,
   "metadata": {},
   "outputs": [],
   "source": [
    "from dbanalysis import headers"
   ]
  },
  {
   "cell_type": "code",
   "execution_count": 3,
   "metadata": {},
   "outputs": [],
   "source": [
    "hds=headers.get_route_headers()"
   ]
  },
  {
   "cell_type": "code",
   "execution_count": 8,
   "metadata": {},
   "outputs": [],
   "source": [
    "PATH = '/home/student/ResearchPracticum/data/routesplits/'"
   ]
  },
  {
   "cell_type": "code",
   "execution_count": 17,
   "metadata": {},
   "outputs": [
    {
     "name": "stdout",
     "output_type": "stream",
     "text": [
      "['102_10', '102_8', '102_9', '104_15', '104_16', '111_10', '111_7', '111_8', '111_9', '114_5', '114_6', '116_1', '116_3', '118_3', '11_40', '11_41', '11_42', '11_43', '120_10', '120_7', '120_8', '120_9', '122_14', '122_15', '122_16', '122_17', '123_34', '123_35', '123_36', '123_37', '130_10', '130_11', '13_28', '13_60', '13_61', '13_62', '13_63', '13_64', '13_65', '13_66', '13_67', '13_68', '13_69', '13_70', '13_71', '13_72', '13_73', '13_74', '13_75', '13_76', '140_16', '140_19', '140_20', '140_21', '140_22', '142_10', '142_12', '142_8', '142_9', '145_102', '145_104', '145_105', '145_106', '145_107', '145_86', '145_87', '145_88', '145_89', '145_91', '145_93', '145_94', '145_95', '145_99', '14C_17', '14C_18', '14_12', '14_15', '14_16', '150_5', '150_6', '150_7', '151_15', '151_16', '151_17', '151_18', '151_19', '15A_80', '15A_81', '15A_82', '15B_55', '15B_56', '15B_57', '15B_58', '15B_59', '15_10', '15_16', '15_17', '15_18', '161_50', '161_51', '161_52', '16C_26', '16C_27', '16C_28', '16C_29', '16_20', '16_21', '16_22', '16_23', '16_24', '17A_11', '17A_12', '17A_13', '17A_14', '17A_15', '17A_16', '17A_17', '17A_18', '17_10', '17_11', '17_12', '17_13', '17_14', '17_15', '17_16', '17_17', '17_18', '17_19', '184_28', '184_29', '185_50', '185_51', '185_52', '185_53', '185_54', '185_55', '185_56', '185_57', '185_58', '185_59', '185_60', '185_61', '185_62', '185_63', '18_3', '18_4', '18_5', '1_37', '1_38', '1_39', '1_40', '1_41', '220_10', '220_12', '220_14', '220_15', '236_10', '236_9', '238_11', '238_12', '238_15', '239_26', '239_28', '25A_270', '25A_273', '25B_271', '25B_274', '25B_276', '25D_275', '25D_277', '25X_5', '25X_7', '25X_9', '25_269', '25_272', '26_24', '26_26', '270_42', '270_44', '27A_4', '27A_5', '27A_6', '27B_23', '27B_25', '27B_26', '27B_27', '27B_34', '27B_35', '27B_36', '27B_37', '27B_38', '27B_39', '27B_40', '27X_42', '27X_43', '27_12', '27_17', '27_18', '27_19', '27_20', '27_9', '29A_14', '29A_15', '31A_25', '31A_26', '31B_44', '31B_45', '31B_46', '31D_50', '31D_51', '31_15', '31_16', '31_17', '31_18', '32X_74', '32X_75', '32X_76', '32_57', '32_58', '33A_22', '33A_23', '33A_25', '33A_26', '33A_27', '33B_56', '33B_57', '33B_58', '33B_59', '33B_60', '33X_46', '33X_47', '33X_48', '33_16', '33_17', '33_18', '33_40', '33_41', '33_42', '33_43', '33_44', '33_45', '33_69', '33_70', '33_71', '33_72', '33_73', '37_13', '37_14', '37_15', '38A_20', '38A_23', '38A_32', '38A_33', '38B_40', '38B_44', '38B_45', '38D_61', '38D_68', '38_10', '38_13', '38_14', '38_15', '38_9', '39A_40', '39A_41', '39A_42', '39A_43', '39A_44', '39A_45', '39_20', '39_21', '39_22', '39_23', '40B_63', '40B_64', '40B_65', '40D_101', '40D_102', '40D_103', '40D_104', '40D_105', '40D_106', '40_17', '40_18', '40_19', '40_20', '40_24', '40_25', '40_26', '40_27', '40_28', '40_29', '40_30', '40_31', '40_32', '40_33', '41A_22', '41B_51', '41B_52', '41B_53', '41C_78', '41C_79', '41C_80', '41X_108', '41X_109', '41X_110', '41X_115', '41X_116', '41X_117', '41X_118', '41X_119', '41X_120', '41_10', '41_20', '41_21', '41_3', '41_4', '41_5', '41_6', '41_7', '41_8', '41_9', '42D_50', '42D_51', '42_42', '42_44', '43_84', '43_85', '43_88', '43_89', '44B_60', '44B_61', '44_30', '44_31', '44_33', '44_35', '44_36', '44_37', '44_38', '44_39', '44_40', '45A_60', '45A_64', '45A_67', '45A_68', '45A_69', '45A_70', '46A_62', '46A_63', '46A_64', '46A_65', '46A_66', '46A_67', '46A_68', '46A_69', '46A_70', '46A_72', '46A_73', '46A_74', '46A_77', '46E_93', '47_135', '47_136', '47_137', '47_138', '47_139', '49_27', '49_28', '49_29', '4_10', '4_11', '4_12', '4_13', '51D_47', '51D_50', '51X_63', '53_17', '53_19', '54A_11', '54A_12', '56A_30', '56A_31', '59_10', '59_11', '61_106', '61_107', '61_108', '61_109', '63_25', '63_26', '63_27', '63_28', '63_29', '63_30', '63_31', '65B_65', '65B_66', '65_72', '65_73', '65_74', '65_75', '65_76', '65_77', '66A_34', '66A_36', '66B_55', '66B_57', '66X_100', '66X_101', '66X_92', '66X_93', '66X_94', '66X_95', '66X_96', '66X_97', '66X_99', '66_11', '66_13', '66_14', '66_16', '67X_38', '67X_39', '67X_40', '67X_41', '67X_42', '67_4', '67_6', '68A_75', '68A_76', '68X_77', '68_66', '68_67', '68_68', '68_69', '68_70', '68_71', '68_72', '68_73', '68_74', '69X_57', '69X_58', '69_30', '69_41', '69_42', '70D_70', '70D_71', '70_60', '70_67', '70_69', '757_1', '757_2', '75_13', '75_14', '75_15', '75_16', '75_17', '75_18', '75_19', '75_20', '75_21', '75_7', '75_8', '76A_28', '76A_29', '76_36', '76_37', '77A_28', '77A_29', '77X_61', '79A_27', '79A_28', '79_10', '79_11', '7A_85', '7A_86', '7A_87', '7A_88', '7B_91', '7B_93', '7D_120', '7D_121', '7D_122', '7_66', '7_67', '7_70', '7_71', '83A_17', '83A_20', '83A_23', '83A_26', '83_16', '83_18', '83_19', '83_21', '83_22', '83_24', '83_25', '83_27', '84A_1', '84A_2', '84A_3', '84A_4', '84X_52', '84X_53', '84X_56', '84X_57', '84X_58', '84X_59', '84_27', '84_28', '84_29', '84_30', '84_31', '84_32', '9_5', '9_6', '9_7', '9_8']\n"
     ]
    }
   ],
   "source": [
    "import os\n",
    "routes_list = print(sorted(os.listdir('/home/student/ResearchPracticum/data/routesplits')))"
   ]
  },
  {
   "cell_type": "markdown",
   "metadata": {},
   "source": [
    "#### Finding homologous routes"
   ]
  },
  {
   "cell_type": "code",
   "execution_count": 16,
   "metadata": {},
   "outputs": [],
   "source": [
    "def findHomologousRoutes(routes_list, route_prefix):\n",
    "    homologous_routes=[]\n",
    "    for route in routes_list:\n",
    "        for i in route_prefix:\n",
    "            if route not in homologous_routes and route.startswith(i):\n",
    "                homologous_routes.append(route)\n",
    "    return homologous_routes"
   ]
  },
  {
   "cell_type": "code",
   "execution_count": 22,
   "metadata": {},
   "outputs": [
    {
     "name": "stdout",
     "output_type": "stream",
     "text": [
      "<class 'NoneType'>\n"
     ]
    }
   ],
   "source": [
    "print(type(routes_list))"
   ]
  },
  {
   "cell_type": "code",
   "execution_count": 18,
   "metadata": {},
   "outputs": [],
   "source": [
    "route_140 = ['140']"
   ]
  },
  {
   "cell_type": "code",
   "execution_count": 19,
   "metadata": {},
   "outputs": [
    {
     "ename": "TypeError",
     "evalue": "'NoneType' object is not iterable",
     "output_type": "error",
     "traceback": [
      "\u001b[0;31m---------------------------------------------------------------------------\u001b[0m",
      "\u001b[0;31mTypeError\u001b[0m                                 Traceback (most recent call last)",
      "\u001b[0;32m<ipython-input-19-61b9e4bc8d52>\u001b[0m in \u001b[0;36m<module>\u001b[0;34m()\u001b[0m\n\u001b[0;32m----> 1\u001b[0;31m \u001b[0mfindHomologousRoutes\u001b[0m\u001b[0;34m(\u001b[0m\u001b[0mroutes_list\u001b[0m\u001b[0;34m,\u001b[0m\u001b[0mroute_140\u001b[0m\u001b[0;34m)\u001b[0m\u001b[0;34m\u001b[0m\u001b[0m\n\u001b[0m",
      "\u001b[0;32m<ipython-input-16-e6b1f5074175>\u001b[0m in \u001b[0;36mfindHomologousRoutes\u001b[0;34m(routes_list, route_prefix)\u001b[0m\n\u001b[1;32m      1\u001b[0m \u001b[0;32mdef\u001b[0m \u001b[0mfindHomologousRoutes\u001b[0m\u001b[0;34m(\u001b[0m\u001b[0mroutes_list\u001b[0m\u001b[0;34m,\u001b[0m \u001b[0mroute_prefix\u001b[0m\u001b[0;34m)\u001b[0m\u001b[0;34m:\u001b[0m\u001b[0;34m\u001b[0m\u001b[0m\n\u001b[1;32m      2\u001b[0m     \u001b[0mhomologous_routes\u001b[0m\u001b[0;34m=\u001b[0m\u001b[0;34m[\u001b[0m\u001b[0;34m]\u001b[0m\u001b[0;34m\u001b[0m\u001b[0m\n\u001b[0;32m----> 3\u001b[0;31m     \u001b[0;32mfor\u001b[0m \u001b[0mroute\u001b[0m \u001b[0;32min\u001b[0m \u001b[0mroutes_list\u001b[0m\u001b[0;34m:\u001b[0m\u001b[0;34m\u001b[0m\u001b[0m\n\u001b[0m\u001b[1;32m      4\u001b[0m         \u001b[0;32mfor\u001b[0m \u001b[0mi\u001b[0m \u001b[0;32min\u001b[0m \u001b[0mroute_prefix\u001b[0m\u001b[0;34m:\u001b[0m\u001b[0;34m\u001b[0m\u001b[0m\n\u001b[1;32m      5\u001b[0m             \u001b[0;32mif\u001b[0m \u001b[0mroute\u001b[0m \u001b[0;32mnot\u001b[0m \u001b[0;32min\u001b[0m \u001b[0mhomologous_routes\u001b[0m \u001b[0;32mand\u001b[0m \u001b[0mroute\u001b[0m\u001b[0;34m.\u001b[0m\u001b[0mstartswith\u001b[0m\u001b[0;34m(\u001b[0m\u001b[0mi\u001b[0m\u001b[0;34m)\u001b[0m\u001b[0;34m:\u001b[0m\u001b[0;34m\u001b[0m\u001b[0m\n",
      "\u001b[0;31mTypeError\u001b[0m: 'NoneType' object is not iterable"
     ]
    }
   ],
   "source": [
    "findHomologousRoutes(routes_list,route_140)"
   ]
  },
  {
   "cell_type": "code",
   "execution_count": null,
   "metadata": {},
   "outputs": [],
   "source": []
  }
 ],
 "metadata": {
  "kernelspec": {
   "display_name": "Python 3",
   "language": "python",
   "name": "python3"
  },
  "language_info": {
   "codemirror_mode": {
    "name": "ipython",
    "version": 3
   },
   "file_extension": ".py",
   "mimetype": "text/x-python",
   "name": "python",
   "nbconvert_exporter": "python",
   "pygments_lexer": "ipython3",
   "version": "3.6.5"
  }
 },
 "nbformat": 4,
 "nbformat_minor": 2
}
